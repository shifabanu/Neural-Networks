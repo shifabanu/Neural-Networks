{
  "nbformat": 4,
  "nbformat_minor": 0,
  "metadata": {
    "kernelspec": {
      "display_name": "Python 3",
      "language": "python",
      "name": "python3"
    },
    "language_info": {
      "codemirror_mode": {
        "name": "ipython",
        "version": 3
      },
      "file_extension": ".py",
      "mimetype": "text/x-python",
      "name": "python",
      "nbconvert_exporter": "python",
      "pygments_lexer": "ipython3",
      "version": "3.8.3"
    },
    "colab": {
      "name": "HW#1_014530971_Shifa.ipynb",
      "provenance": []
    }
  },
  "cells": [
    {
      "cell_type": "markdown",
      "metadata": {
        "id": "hNLEcGrTfS-Y",
        "colab_type": "text"
      },
      "source": [
        "# Problem 1"
      ]
    },
    {
      "cell_type": "markdown",
      "metadata": {
        "id": "9AyoV72JfS-b",
        "colab_type": "text"
      },
      "source": [
        "## a)"
      ]
    },
    {
      "cell_type": "code",
      "metadata": {
        "id": "I2veX8UifS-d",
        "colab_type": "code",
        "colab": {}
      },
      "source": [
        "import numpy as np"
      ],
      "execution_count": null,
      "outputs": []
    },
    {
      "cell_type": "code",
      "metadata": {
        "id": "d3iF6_PWfS-n",
        "colab_type": "code",
        "colab": {}
      },
      "source": [
        "M = np.array([[1,2,3], [4,5,6], [7,8,9]])"
      ],
      "execution_count": null,
      "outputs": []
    },
    {
      "cell_type": "code",
      "metadata": {
        "id": "UqGSQdnZfS-u",
        "colab_type": "code",
        "colab": {}
      },
      "source": [
        "M"
      ],
      "execution_count": null,
      "outputs": []
    },
    {
      "cell_type": "code",
      "metadata": {
        "id": "siJ7HDaqfS-1",
        "colab_type": "code",
        "colab": {}
      },
      "source": [
        "v = np.array([[1],[2],[3]])"
      ],
      "execution_count": null,
      "outputs": []
    },
    {
      "cell_type": "code",
      "metadata": {
        "id": "V7qdFkHsfS-5",
        "colab_type": "code",
        "colab": {}
      },
      "source": [
        "v"
      ],
      "execution_count": null,
      "outputs": []
    },
    {
      "cell_type": "markdown",
      "metadata": {
        "id": "KlkmGpL8fS-_",
        "colab_type": "text"
      },
      "source": [
        "## b) Check the cheatsheet for numpy"
      ]
    },
    {
      "cell_type": "markdown",
      "metadata": {
        "id": "7vE9qGUlfS_B",
        "colab_type": "text"
      },
      "source": [
        "Checked!"
      ]
    },
    {
      "cell_type": "markdown",
      "metadata": {
        "id": "wV1fn_X3fS_D",
        "colab_type": "text"
      },
      "source": [
        "## c) "
      ]
    },
    {
      "cell_type": "code",
      "metadata": {
        "id": "2npszDHKfS_E",
        "colab_type": "code",
        "colab": {}
      },
      "source": [
        "M.shape # 3x3 Matrix"
      ],
      "execution_count": null,
      "outputs": []
    },
    {
      "cell_type": "code",
      "metadata": {
        "id": "pPlNQ1r6fS_J",
        "colab_type": "code",
        "colab": {}
      },
      "source": [
        "v.shape # 3x1 Matrix"
      ],
      "execution_count": null,
      "outputs": []
    },
    {
      "cell_type": "code",
      "metadata": {
        "id": "BSYfYyD7fS_O",
        "colab_type": "code",
        "colab": {}
      },
      "source": [
        "np.add(v,v)  # [[2], [4], [6]]\n"
      ],
      "execution_count": null,
      "outputs": []
    },
    {
      "cell_type": "code",
      "metadata": {
        "id": "SS2umkn7fS_S",
        "colab_type": "code",
        "colab": {}
      },
      "source": [
        "2*v      # [[2], [4], [6]]"
      ],
      "execution_count": null,
      "outputs": []
    },
    {
      "cell_type": "code",
      "metadata": {
        "id": "ZAtZBpoKfS_b",
        "colab_type": "code",
        "colab": {}
      },
      "source": [
        "z = np.array([[0], [0], [0]])\n",
        "z\n"
      ],
      "execution_count": null,
      "outputs": []
    },
    {
      "cell_type": "markdown",
      "metadata": {
        "id": "oCO6yG7_fS_e",
        "colab_type": "text"
      },
      "source": [
        "## d)"
      ]
    },
    {
      "cell_type": "code",
      "metadata": {
        "id": "X-5QiznHfS_f",
        "colab_type": "code",
        "colab": {}
      },
      "source": [
        "I = np.array([[1, 0, 0], [0, 1, 0], [0, 0, 1]])\n",
        "I"
      ],
      "execution_count": null,
      "outputs": []
    },
    {
      "cell_type": "code",
      "metadata": {
        "id": "AZ_mvmrNfS_j",
        "colab_type": "code",
        "colab": {}
      },
      "source": [
        "M*v"
      ],
      "execution_count": null,
      "outputs": []
    },
    {
      "cell_type": "code",
      "metadata": {
        "id": "1be29oi-fS_q",
        "colab_type": "code",
        "colab": {}
      },
      "source": [
        "np.multiply(v,v)"
      ],
      "execution_count": null,
      "outputs": []
    },
    {
      "cell_type": "code",
      "metadata": {
        "id": "nn6r3PEmfS_x",
        "colab_type": "code",
        "colab": {}
      },
      "source": [
        "np.transpose(M)"
      ],
      "execution_count": null,
      "outputs": []
    },
    {
      "cell_type": "code",
      "metadata": {
        "id": "gHtAi-1gfS_3",
        "colab_type": "code",
        "colab": {}
      },
      "source": [
        "np.linalg.inv(M)"
      ],
      "execution_count": null,
      "outputs": []
    },
    {
      "cell_type": "markdown",
      "metadata": {
        "id": "qs_7jK49fS_6",
        "colab_type": "text"
      },
      "source": [
        "# Problem 2"
      ]
    },
    {
      "cell_type": "code",
      "metadata": {
        "id": "Q9uBNH4XfS_7",
        "colab_type": "code",
        "colab": {}
      },
      "source": [
        "def phi_1(x):\n",
        "    #Its a Sigmoid function\n",
        "    return (1 /(1 + np.exp(-x))) \n",
        "\n",
        "def phi_2(x):\n",
        "    #tanh(x)\n",
        "    return np.tanh(x)\n",
        "    \n",
        "def phi_3(x):\n",
        "    #ReLU\n",
        "    return np.maximum(0, x)"
      ],
      "execution_count": null,
      "outputs": []
    },
    {
      "cell_type": "code",
      "metadata": {
        "id": "un3nH6ABfS_-",
        "colab_type": "code",
        "colab": {}
      },
      "source": [
        "#Derivative of the above functions\n",
        "\n",
        "def deriv_phi_1(x):\n",
        "    # Derivative of sigmoid: f'(x) = f(x) * (1 - f(x))\n",
        "    fx = phi_1(x)\n",
        "    return fx * (1 - fx)\n",
        "\n",
        "def deriv_phi_2(x):\n",
        "    fx = phi_2(x)\n",
        "    return (1 - fx **2)\n",
        "\n",
        "def deriv_phi_3(x):\n",
        "    if x > 0:\n",
        "        return 1\n",
        "    else:\n",
        "        return 0\n",
        "\n",
        "    "
      ],
      "execution_count": null,
      "outputs": []
    },
    {
      "cell_type": "code",
      "metadata": {
        "id": "MqYokRQnfTAE",
        "colab_type": "code",
        "colab": {}
      },
      "source": [
        "a = np.arange(-5, 5, 1)\n",
        "func_1 = phi_1(a)\n",
        "func_2 = phi_2(a)\n",
        "func_3 = phi_3(a)\n",
        "\n",
        "import matplotlib.pyplot as plt\n",
        "%matplotlib inline\n",
        "\n",
        "fig = plt.figure()\n",
        "\n",
        "ax1 = fig.add_subplot(221)\n",
        "ax1.plot(a, func_1 , \"r\")\n",
        "ax1.set(xlabel = \" Values of 'a' \", ylabel= \"phi_1(a)\")\n",
        "\n",
        "ax2 = fig.add_subplot(222)\n",
        "ax2.plot(a, func_2 , \"g\")\n",
        "ax2.set(xlabel = \" Values of 'a' \", ylabel= \"phi_2(a)\")\n",
        "\n",
        "ax3 = fig.add_subplot(223)\n",
        "ax3.plot(a, func_3 , \"b\")\n",
        "ax3.set(xlabel = \" Values of 'a' \", ylabel= \"phi_3(a)\")\n",
        "\n",
        "\n",
        "plt.show"
      ],
      "execution_count": null,
      "outputs": []
    },
    {
      "cell_type": "code",
      "metadata": {
        "id": "TtZIjMnAfTAK",
        "colab_type": "code",
        "colab": {}
      },
      "source": [
        ""
      ],
      "execution_count": null,
      "outputs": []
    }
  ]
}