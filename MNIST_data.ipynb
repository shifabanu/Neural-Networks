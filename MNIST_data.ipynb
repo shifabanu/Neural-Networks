{
  "nbformat": 4,
  "nbformat_minor": 0,
  "metadata": {
    "colab": {
      "name": "MNIST_data.ipynb",
      "provenance": [],
      "collapsed_sections": []
    },
    "kernelspec": {
      "name": "python3",
      "display_name": "Python 3"
    }
  },
  "cells": [
    {
      "cell_type": "code",
      "metadata": {
        "id": "DFkEwm_orD4I"
      },
      "source": [
        "from sklearn.datasets import fetch_openml\n",
        "import pandas as pd\n",
        "import numpy as np\n",
        "import matplotlib.pyplot as plt\n",
        "import matplotlib.image as mpimg\n",
        "import seaborn as sns\n",
        "%matplotlib inline\n",
        "\n",
        "np.random.seed(25)\n",
        "from keras.datasets import mnist\n",
        "from keras.models import Sequential\n",
        "from keras.layers import Dense, Dropout, Activation, Flatten\n",
        "from keras.optimizers import Adam\n",
        "from keras.layers.normalization import BatchNormalization\n",
        "from keras.utils import np_utils\n",
        "from keras.layers import Conv2D, MaxPooling2D, ZeroPadding2D, GlobalAveragePooling2D\n",
        "from keras.layers.advanced_activations import LeakyReLU \n",
        "from keras.preprocessing.image import ImageDataGenerator\n"
      ],
      "execution_count": null,
      "outputs": []
    },
    {
      "cell_type": "markdown",
      "metadata": {
        "id": "CeIxV2K_R66E"
      },
      "source": [
        "Loading data\n"
      ]
    },
    {
      "cell_type": "code",
      "metadata": {
        "id": "o-N_S_cntDuI",
        "outputId": "c06da739-18ce-408c-d123-3e1e5f004fdd",
        "colab": {
          "base_uri": "https://localhost:8080/"
        }
      },
      "source": [
        "mnist_dataset = fetch_openml('mnist_784')\n",
        "print(type(mnist_dataset))"
      ],
      "execution_count": null,
      "outputs": [
        {
          "output_type": "stream",
          "text": [
            "<class 'sklearn.utils.Bunch'>\n"
          ],
          "name": "stdout"
        }
      ]
    },
    {
      "cell_type": "code",
      "metadata": {
        "id": "6lRKn2QitPQs",
        "outputId": "4c60afdb-ac31-4141-eb55-3a98d86bff70",
        "colab": {
          "base_uri": "https://localhost:8080/"
        }
      },
      "source": [
        "X = mnist_dataset['data']\n",
        "print('X', type(X), X.shape)"
      ],
      "execution_count": null,
      "outputs": [
        {
          "output_type": "stream",
          "text": [
            "X <class 'numpy.ndarray'> (70000, 784)\n"
          ],
          "name": "stdout"
        }
      ]
    },
    {
      "cell_type": "code",
      "metadata": {
        "id": "VBRCj8M2tUNF",
        "outputId": "88d6d9f4-1978-4ac8-b3a4-de371f020624",
        "colab": {
          "base_uri": "https://localhost:8080/"
        }
      },
      "source": [
        "y = mnist_dataset['target']\n",
        "print('y', type(y), y.shape)\n",
        "print('split to train', y[:59999])\n",
        "print('split to test', y[60000:])"
      ],
      "execution_count": null,
      "outputs": [
        {
          "output_type": "stream",
          "text": [
            "y <class 'numpy.ndarray'> (70000,)\n",
            "split to train ['5' '0' '4' ... '3' '5' '6']\n",
            "split to test ['7' '2' '1' ... '4' '5' '6']\n"
          ],
          "name": "stdout"
        }
      ]
    },
    {
      "cell_type": "code",
      "metadata": {
        "id": "LUR3TsIXtfdm",
        "outputId": "3e312f6f-5bac-4f8d-f62f-86b2104e1f30",
        "colab": {
          "base_uri": "https://localhost:8080/"
        }
      },
      "source": [
        "X_train, X_test = X[:60000], X[60000:]\n",
        "print('X_train', type(X_train), X_train.shape)\n",
        "print('X_test', type(X_test), X_test.shape)"
      ],
      "execution_count": null,
      "outputs": [
        {
          "output_type": "stream",
          "text": [
            "X_train <class 'numpy.ndarray'> (60000, 784)\n",
            "X_test <class 'numpy.ndarray'> (10000, 784)\n"
          ],
          "name": "stdout"
        }
      ]
    },
    {
      "cell_type": "code",
      "metadata": {
        "id": "x_Xm0JIHv-BB",
        "outputId": "20ef93b0-5196-4018-e026-90ac94033a67",
        "colab": {
          "base_uri": "https://localhost:8080/"
        }
      },
      "source": [
        "y_train, y_test = y[:60000], y[60000:]\n",
        "print('y_train', type(y_train), y_train.shape)\n",
        "print('y_test', type(y_test), y_test.shape)"
      ],
      "execution_count": null,
      "outputs": [
        {
          "output_type": "stream",
          "text": [
            "y_train <class 'numpy.ndarray'> (60000,)\n",
            "y_test <class 'numpy.ndarray'> (10000,)\n"
          ],
          "name": "stdout"
        }
      ]
    },
    {
      "cell_type": "markdown",
      "metadata": {
        "id": "WBmRK01nSALs"
      },
      "source": [
        "Preprocessing"
      ]
    },
    {
      "cell_type": "code",
      "metadata": {
        "id": "fot-dd4wyMrN",
        "outputId": "cb7ea133-bc9e-41b0-b46d-5bafbbc63793",
        "colab": {
          "base_uri": "https://localhost:8080/"
        }
      },
      "source": [
        "X_train = X_train.reshape(X_train.shape[0], 28, 28, 1)\n",
        "X_test = X_test.reshape(X_test.shape[0], 28, 28, 1)\n",
        "\n",
        "X_train = X_train.astype('float32')\n",
        "X_test = X_test.astype('float32')\n",
        "\n",
        "X_train/=255\n",
        "X_test/=255\n",
        "\n",
        "X_train.shape"
      ],
      "execution_count": null,
      "outputs": [
        {
          "output_type": "execute_result",
          "data": {
            "text/plain": [
              "(60000, 28, 28, 1)"
            ]
          },
          "metadata": {
            "tags": []
          },
          "execution_count": 26
        }
      ]
    },
    {
      "cell_type": "code",
      "metadata": {
        "id": "dtfcAeoBwFM3",
        "outputId": "e2da2431-4065-47e6-ba46-75c94e9fbcf6",
        "colab": {
          "base_uri": "https://localhost:8080/"
        }
      },
      "source": [
        "from keras.utils import np_utils\n",
        "number_of_classes = 10\n",
        "\n",
        "Y_train = np_utils.to_categorical(y_train, number_of_classes)\n",
        "Y_test = np_utils.to_categorical(y_test, number_of_classes)\n",
        "\n",
        "y_train[0], Y_train[0]"
      ],
      "execution_count": null,
      "outputs": [
        {
          "output_type": "execute_result",
          "data": {
            "text/plain": [
              "('5', array([0., 0., 0., 0., 0., 1., 0., 0., 0., 0.], dtype=float32))"
            ]
          },
          "metadata": {
            "tags": []
          },
          "execution_count": 27
        }
      ]
    },
    {
      "cell_type": "markdown",
      "metadata": {
        "id": "HJqPhBkzSDBo"
      },
      "source": [
        "CNN Model\n"
      ]
    },
    {
      "cell_type": "code",
      "metadata": {
        "id": "q5G8TX_ZwXY_"
      },
      "source": [
        "model = Sequential()\n",
        "\n",
        "model.add(Conv2D(filters = 32, kernel_size = (5,5),padding = 'Same', \n",
        "                 activation ='relu', input_shape = (28,28,1)))\n",
        "model.add(Conv2D(filters = 32, kernel_size = (5,5),padding = 'Same', \n",
        "                 activation ='relu'))\n",
        "model.add(MaxPool2D(pool_size=(2,2)))\n",
        "model.add(Dropout(0.25))\n",
        "\n",
        "\n",
        "model.add(Conv2D(filters = 64, kernel_size = (3,3),padding = 'Same', \n",
        "                 activation ='relu'))\n",
        "model.add(Conv2D(filters = 64, kernel_size = (3,3),padding = 'Same', \n",
        "                 activation ='relu'))\n",
        "model.add(MaxPool2D(pool_size=(2,2), strides=(2,2)))\n",
        "model.add(Dropout(0.25))\n",
        "\n",
        "\n",
        "model.add(Flatten())\n",
        "model.add(Dense(256, activation = \"relu\"))\n",
        "model.add(Dropout(0.5))\n",
        "model.add(Dense(10, activation = \"softmax\"))"
      ],
      "execution_count": null,
      "outputs": []
    },
    {
      "cell_type": "markdown",
      "metadata": {
        "id": "atv18L2mSMCL"
      },
      "source": [
        "Training Model"
      ]
    },
    {
      "cell_type": "code",
      "metadata": {
        "id": "Lnr0hz5JxBSY"
      },
      "source": [
        "optimizer = RMSprop(lr=0.001, rho=0.9, epsilon=1e-08, decay=0.0)\n",
        "model.compile(optimizer = optimizer , loss = \"categorical_crossentropy\", metrics=[\"accuracy\"])\n",
        "learning_rate_reduction = ReduceLROnPlateau(monitor='val_acc', \n",
        "                                            patience=3, \n",
        "                                            verbose=1, \n",
        "                                            factor=0.5, \n",
        "                                            min_lr=0.00001)\n",
        "epochs = 1 # Turn epochs to 30 to get 0.9967 accuracy\n",
        "batch_size = 86\n",
        "\n",
        "\n",
        "# With data augmentation to prevent overfitting (accuracy 0.99286)\n",
        "\n",
        "datagen = ImageDataGenerator(\n",
        "        featurewise_center=False,  # set input mean to 0 over the dataset\n",
        "        samplewise_center=False,  # set each sample mean to 0\n",
        "        featurewise_std_normalization=False,  # divide inputs by std of the dataset\n",
        "        samplewise_std_normalization=False,  # divide each input by its std\n",
        "        zca_whitening=False,  # apply ZCA whitening\n",
        "        rotation_range=10,  # randomly rotate images in the range (degrees, 0 to 180)\n",
        "        zoom_range = 0.1, # Randomly zoom image \n",
        "        width_shift_range=0.1,  # randomly shift images horizontally (fraction of total width)\n",
        "        height_shift_range=0.1,  # randomly shift images vertically (fraction of total height)\n",
        "        horizontal_flip=False,  # randomly flip images\n",
        "        vertical_flip=False)  # randomly flip images\n",
        "\n",
        "\n",
        "datagen.fit(X_train)\n",
        "\n"
      ],
      "execution_count": null,
      "outputs": []
    },
    {
      "cell_type": "code",
      "metadata": {
        "id": "VpXUMEFpKGjd",
        "outputId": "034cf16f-8722-4e8e-b325-02746f007621",
        "colab": {
          "base_uri": "https://localhost:8080/"
        }
      },
      "source": [
        "\n",
        "model.fit_generator(train_generator, steps_per_epoch=60000//64, epochs=5, \n",
        "                    validation_data=test_generator, validation_steps=10000//64)"
      ],
      "execution_count": null,
      "outputs": [
        {
          "output_type": "stream",
          "text": [
            "Epoch 1/5\n",
            "937/937 [==============================] - 426s 455ms/step - loss: 0.0671 - accuracy: 0.9829 - val_loss: 2.3031 - val_accuracy: 0.1132\n",
            "Epoch 2/5\n",
            "937/937 [==============================] - 428s 457ms/step - loss: 0.0564 - accuracy: 0.9837 - val_loss: 2.3033 - val_accuracy: 0.1136\n",
            "Epoch 3/5\n",
            "937/937 [==============================] - 428s 457ms/step - loss: 0.0578 - accuracy: 0.9839 - val_loss: 2.3038 - val_accuracy: 0.1136\n",
            "Epoch 4/5\n",
            "937/937 [==============================] - 434s 463ms/step - loss: 0.0575 - accuracy: 0.9843 - val_loss: 2.3040 - val_accuracy: 0.1134\n",
            "Epoch 5/5\n",
            "937/937 [==============================] - 426s 455ms/step - loss: 0.0632 - accuracy: 0.9830 - val_loss: 2.3044 - val_accuracy: 0.1136\n"
          ],
          "name": "stdout"
        },
        {
          "output_type": "execute_result",
          "data": {
            "text/plain": [
              "<tensorflow.python.keras.callbacks.History at 0x7fd0a678e6d8>"
            ]
          },
          "metadata": {
            "tags": []
          },
          "execution_count": 45
        }
      ]
    },
    {
      "cell_type": "markdown",
      "metadata": {
        "id": "7QGxblTOSHv0"
      },
      "source": [
        "Test Accuracy"
      ]
    },
    {
      "cell_type": "code",
      "metadata": {
        "id": "LsSvlOe13CKL",
        "outputId": "e0135013-b0a0-48b8-9c58-a6d81fa1673f",
        "colab": {
          "base_uri": "https://localhost:8080/"
        }
      },
      "source": [
        "score = model.evaluate(X_test, Y_test)\n",
        "print()\n",
        "print('Test accuracy: ', score[1])"
      ],
      "execution_count": null,
      "outputs": [
        {
          "output_type": "stream",
          "text": [
            "313/313 [==============================] - 16s 52ms/step - loss: 0.2711 - accuracy: 0.9298\n",
            "\n",
            "Test accuracy:  0.9297999739646912\n"
          ],
          "name": "stdout"
        }
      ]
    }
  ]
}