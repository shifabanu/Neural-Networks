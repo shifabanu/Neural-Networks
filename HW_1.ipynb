{
  "nbformat": 4,
  "nbformat_minor": 0,
  "metadata": {
    "colab": {
      "name": "HW#1.ipynb",
      "provenance": [],
      "authorship_tag": "ABX9TyNCbHInvPVDo0+0FEIoNKGf"
    },
    "kernelspec": {
      "name": "python3",
      "display_name": "Python 3"
    }
  },
  "cells": [
    {
      "cell_type": "code",
      "metadata": {
        "id": "YoxiWxhg40QX",
        "colab_type": "code",
        "colab": {}
      },
      "source": [
        "import pandas as pd\n",
        "import matplotlib.pyplot as plt\n",
        "import io\n",
        "from google.colab import files"
      ],
      "execution_count": null,
      "outputs": []
    },
    {
      "cell_type": "code",
      "metadata": {
        "id": "aSj9qyCM5WX5",
        "colab_type": "code",
        "colab": {}
      },
      "source": [
        "uploaded = files.upload()\n"
      ],
      "execution_count": null,
      "outputs": []
    },
    {
      "cell_type": "code",
      "metadata": {
        "id": "afbanlOG6hXX",
        "colab_type": "code",
        "colab": {}
      },
      "source": [
        "data = pd.read_csv(io.BytesIO(uploaded['iris-data.csv']))"
      ],
      "execution_count": null,
      "outputs": []
    },
    {
      "cell_type": "code",
      "metadata": {
        "id": "QUkp1c46-AfS",
        "colab_type": "code",
        "colab": {}
      },
      "source": [
        "data.head()"
      ],
      "execution_count": null,
      "outputs": []
    },
    {
      "cell_type": "markdown",
      "metadata": {
        "id": "kkALhO25YeCM",
        "colab_type": "text"
      },
      "source": [
        "The displayed data is the iris dataset that contains 5 columns as: sepal length, sepal width, petal length, petal width and class. All the columns except the class has numerical values. Class has some categorical values."
      ]
    },
    {
      "cell_type": "code",
      "metadata": {
        "id": "8m0zaGAl-OaL",
        "colab_type": "code",
        "colab": {}
      },
      "source": [
        "data.describe()"
      ],
      "execution_count": null,
      "outputs": []
    },
    {
      "cell_type": "markdown",
      "metadata": {
        "id": "-ig8dyBsZczc",
        "colab_type": "text"
      },
      "source": [
        "The summary of numerical features are shown above. It shows the maximum and minimum values. The sepal length has a bigger difference in the min and max values ie some data is wrong in that column. Other data looks good."
      ]
    },
    {
      "cell_type": "code",
      "metadata": {
        "id": "HjcFLtB3-UiI",
        "colab_type": "code",
        "colab": {}
      },
      "source": [
        "data.info()"
      ],
      "execution_count": null,
      "outputs": []
    },
    {
      "cell_type": "markdown",
      "metadata": {
        "id": "GKZryYTYZAui",
        "colab_type": "text"
      },
      "source": [
        "From the above code and details one can make out that there are a few missing values in the petal_width_cm column. Some data is missing. Also the class column has data type as object so it is a catergorical value."
      ]
    },
    {
      "cell_type": "code",
      "metadata": {
        "id": "qDqZ1P6O-7UK",
        "colab_type": "code",
        "colab": {}
      },
      "source": [
        "%matplotlib inline\n",
        "data.hist(bins= 20, figsize= (20,15))\n",
        "plt.show()"
      ],
      "execution_count": null,
      "outputs": []
    },
    {
      "cell_type": "markdown",
      "metadata": {
        "id": "ZtOCFdnQAuHm",
        "colab_type": "text"
      },
      "source": [
        "Observation of the above data:\n",
        "\n"
      ]
    },
    {
      "cell_type": "markdown",
      "metadata": {
        "id": "51m1q_21aB0o",
        "colab_type": "text"
      },
      "source": [
        "Above figure shows histogram. The sepal length has some values equal to zero which means either it is a missing data or the data is wrongly entered. The histogram usually shows a better distribution of the whole data in each columns. It makes the analysis easy."
      ]
    },
    {
      "cell_type": "code",
      "metadata": {
        "id": "Eq2ieAJhgdvm",
        "colab_type": "code",
        "colab": {}
      },
      "source": [
        "plt.figure(figsize=(20,15))\n",
        "corr = data.corr()\n",
        "sns.heatmap(corr, annot=True)\n",
        "plt.show()"
      ],
      "execution_count": null,
      "outputs": []
    },
    {
      "cell_type": "markdown",
      "metadata": {
        "id": "3D4SJCuAguvq",
        "colab_type": "text"
      },
      "source": [
        "The above figure shows the correlation matrix plot. The matrix that are correlated has values near to -1 or 1. The ones that are not related to eachother have values near to 0. "
      ]
    },
    {
      "cell_type": "code",
      "metadata": {
        "id": "q5ZOk4QTBQAx",
        "colab_type": "code",
        "colab": {}
      },
      "source": [
        "from pandas.plotting import scatter_matrix\n",
        "attributes = [\"sepal_length_cm\",\t\"sepal_width_cm\",\t\"petal_length_cm\",\t\"petal_width_cm\"]\n",
        "scatter_matrix(data[attributes], figsize= (20,8))"
      ],
      "execution_count": null,
      "outputs": []
    },
    {
      "cell_type": "markdown",
      "metadata": {
        "id": "o4OejvIzbrB9",
        "colab_type": "text"
      },
      "source": [
        "The above scatter plot shows the scatter matrix of each attribute mentioned in the code. The scatter plot with itself is a histogram whereas with others it is a scattered view. "
      ]
    },
    {
      "cell_type": "code",
      "metadata": {
        "id": "G6Y19M7eCqKs",
        "colab_type": "code",
        "colab": {}
      },
      "source": [
        "data.dropna(inplace=True)\n",
        "data.info()"
      ],
      "execution_count": null,
      "outputs": []
    },
    {
      "cell_type": "code",
      "metadata": {
        "id": "zmbdN4EZtm49",
        "colab_type": "code",
        "colab": {}
      },
      "source": [
        "data.drop(data[data[\"sepal_width_cm\"]<2.5].index, inplace= True)"
      ],
      "execution_count": null,
      "outputs": []
    },
    {
      "cell_type": "code",
      "metadata": {
        "id": "IHlJdmijuM26",
        "colab_type": "code",
        "colab": {}
      },
      "source": [
        "data.head(50)"
      ],
      "execution_count": null,
      "outputs": []
    },
    {
      "cell_type": "code",
      "metadata": {
        "id": "svx2BkDuvQqK",
        "colab_type": "code",
        "colab": {}
      },
      "source": [
        "data[\"class\"].value_counts()"
      ],
      "execution_count": null,
      "outputs": []
    },
    {
      "cell_type": "code",
      "metadata": {
        "id": "F3YT2THlQQsa",
        "colab_type": "code",
        "colab": {}
      },
      "source": [
        "data.head()"
      ],
      "execution_count": null,
      "outputs": []
    },
    {
      "cell_type": "code",
      "metadata": {
        "id": "fzIe7WfGRV1Q",
        "colab_type": "code",
        "colab": {}
      },
      "source": [
        "data[\"class\"]= data[\"class\"].replace(\"Iris-setossa\",\"Iris-setosa\")"
      ],
      "execution_count": null,
      "outputs": []
    },
    {
      "cell_type": "code",
      "metadata": {
        "id": "JCba89huavhp",
        "colab_type": "code",
        "colab": {}
      },
      "source": [
        "data[\"class\"].value_counts()"
      ],
      "execution_count": null,
      "outputs": []
    },
    {
      "cell_type": "code",
      "metadata": {
        "id": "H78bUpUga0yh",
        "colab_type": "code",
        "colab": {}
      },
      "source": [
        "data[\"class\"]= data[\"class\"].replace(\"versicolor\",\"Iris-versicolor\")"
      ],
      "execution_count": null,
      "outputs": []
    },
    {
      "cell_type": "code",
      "metadata": {
        "id": "SewfeeAabInM",
        "colab_type": "code",
        "colab": {}
      },
      "source": [
        "data[\"class\"].value_counts()"
      ],
      "execution_count": null,
      "outputs": []
    },
    {
      "cell_type": "markdown",
      "metadata": {
        "id": "PvsgrMUPH5Vo",
        "colab_type": "text"
      },
      "source": [
        ""
      ]
    },
    {
      "cell_type": "markdown",
      "metadata": {
        "id": "5R93RVWTenmU",
        "colab_type": "text"
      },
      "source": [
        "# New Section"
      ]
    },
    {
      "cell_type": "code",
      "metadata": {
        "id": "Ta3phqD9bOa7",
        "colab_type": "code",
        "colab": {}
      },
      "source": [
        "data.loc[data['sepal_length_cm'] < 0.1, 'sepal_length_cm'] = data[ (data['sepal_length_cm']<0.1)]*100 \n",
        "data[\"sepal_length_cm\"]"
      ],
      "execution_count": null,
      "outputs": []
    },
    {
      "cell_type": "code",
      "metadata": {
        "id": "L3jUMRvIAMn2",
        "colab_type": "code",
        "colab": {}
      },
      "source": [
        "data_cate = data[[\"class\"]]\n",
        "data_cate.info()"
      ],
      "execution_count": null,
      "outputs": []
    },
    {
      "cell_type": "code",
      "metadata": {
        "id": "UdJ3PkMCI-cO",
        "colab_type": "code",
        "colab": {}
      },
      "source": [
        "from sklearn.preprocessing import OneHotEncoder\n",
        "cate_encode = OneHotEncoder()\n",
        "\n",
        "iris_data_cate_encoder = cate_encode.fit_transform(data_cate)\n",
        "iris_data_cate_encoder "
      ],
      "execution_count": null,
      "outputs": []
    },
    {
      "cell_type": "code",
      "metadata": {
        "id": "02UV2yP4K3xO",
        "colab_type": "code",
        "colab": {}
      },
      "source": [
        "iris_data_cate_encoder.toarray()"
      ],
      "execution_count": null,
      "outputs": []
    },
    {
      "cell_type": "code",
      "metadata": {
        "id": "Nkmwlg__LArI",
        "colab_type": "code",
        "colab": {}
      },
      "source": [
        "cate_encode.categories_"
      ],
      "execution_count": null,
      "outputs": []
    },
    {
      "cell_type": "code",
      "metadata": {
        "id": "uel29X1kLNEX",
        "colab_type": "code",
        "colab": {}
      },
      "source": [
        "data.to_csv(r'tidy_iris_data.csv')\n"
      ],
      "execution_count": null,
      "outputs": []
    },
    {
      "cell_type": "code",
      "metadata": {
        "id": "jbToKNrMLkJc",
        "colab_type": "code",
        "colab": {}
      },
      "source": [
        "tidy = pd.read_csv(\"tidy_iris_data.csv\")"
      ],
      "execution_count": null,
      "outputs": []
    },
    {
      "cell_type": "code",
      "metadata": {
        "id": "vvFhGpl9L09G",
        "colab_type": "code",
        "colab": {}
      },
      "source": [
        "tidy.head()"
      ],
      "execution_count": null,
      "outputs": []
    },
    {
      "cell_type": "code",
      "metadata": {
        "id": "rrC0Q7WEL6PI",
        "colab_type": "code",
        "colab": {}
      },
      "source": [
        "tidy[\"sepal_length_cm\"][70:90]"
      ],
      "execution_count": null,
      "outputs": []
    },
    {
      "cell_type": "code",
      "metadata": {
        "id": "6EtGz5oJMLXu",
        "colab_type": "code",
        "colab": {}
      },
      "source": [
        ""
      ],
      "execution_count": null,
      "outputs": []
    }
  ]
}